{
 "cells": [
  {
   "cell_type": "markdown",
   "metadata": {},
   "source": [
    "## Question 1\n",
    "\n",
    "Use input box to get the numerical grade from the user and print out the letter grade based on the following rules using if statements:\n",
    "\n",
    "- A if grade is >= 90\n",
    "- B if grade is between 80 and 90, [80, 90) 80 included and 90 excluded\n",
    "- C if grade is between 70 and 80, [70, 80) 70 included and 90 excluded\n",
    "- D if grade is lower than 70\n",
    "\n",
    "a sample output is `your grade is 88.5 and letter grade is B`\n"
   ]
  },
  {
   "cell_type": "code",
   "execution_count": 3,
   "metadata": {},
   "outputs": [
    {
     "name": "stdout",
     "output_type": "stream",
     "text": [
      "Your grade is 88.5 and letter grade is B\n"
     ]
    }
   ],
   "source": [
    "# simple letter grade calculator\n",
    "score = float(input('Please enter your numerical grade here: '))\n",
    "\n",
    "if score >= 90:\n",
    "    letter_grade = 'A'\n",
    "elif score >= 80:\n",
    "    letter_grade = 'B'\n",
    "elif score >= 70:\n",
    "    letter_grade = 'C'\n",
    "else:\n",
    "    letter_grade = 'D'\n",
    "\n",
    "print(f'Your grade is {score:.1f} and letter grade is {letter_grade}')"
   ]
  },
  {
   "cell_type": "markdown",
   "metadata": {},
   "source": [
    "## Question 2\n",
    "\n",
    "Use a for loop to iterate over a list of integers from 7 to 28 and only print out the multiples of 7 and 11 and the total number of those multiples.\n",
    "\n",
    "The sample output is shown below:\n",
    "\n",
    "<img width=\"383\" src=\"https://user-images.githubusercontent.com/595772/190893808-9866127c-7166-42fe-9619-2108ef9fd2a5.png\">"
   ]
  },
  {
   "cell_type": "code",
   "execution_count": 6,
   "metadata": {},
   "outputs": [
    {
     "name": "stdout",
     "output_type": "stream",
     "text": [
      "The cuurent number is 7, which is a multiplie of 7\n",
      "The current number is 11, which is a multiplie of 11\n",
      "The cuurent number is 14, which is a multiplie of 7\n",
      "The cuurent number is 21, which is a multiplie of 7\n",
      "The current number is 22, which is a multiplie of 11\n",
      "The cuurent number is 28, which is a multiplie of 7\n",
      "There are 4 multiplies of 7 and 2 multiplies of 11\n"
     ]
    }
   ],
   "source": [
    "# multiples of 7 and 11\n",
    "Total_number_seven = 0\n",
    "Total_number_eleven = 0\n",
    "\n",
    "for i in range (1,29):\n",
    "    if i % 7 == 0:\n",
    "        print(f'The cuurent number is {i}, which is a multiplie of 7')\n",
    "        Total_number_seven += 1\n",
    "    elif i % 11 == 0:\n",
    "        print(f'The current number is {i}, which is a multiplie of 11')\n",
    "        Total_number_eleven += 1\n",
    "\n",
    "print(f'There are {Total_number_seven} multiplies of 7 and {Total_number_eleven} multiplies of 11')\n"
   ]
  },
  {
   "cell_type": "markdown",
   "metadata": {},
   "source": [
    "# Question 3\n",
    "\n",
    "Given the provided order data, understand the data structure and use a for loop to calculate the order total (formatted as float number with one decimal).\n",
    "\n",
    "Sample output: `the total for the order is 16.2`"
   ]
  },
  {
   "cell_type": "code",
   "execution_count": 11,
   "metadata": {},
   "outputs": [
    {
     "name": "stdout",
     "output_type": "stream",
     "text": [
      "The total for the order is 16.2\n"
     ]
    }
   ],
   "source": [
    "order_list = [{'name': 'apple', 'price': 1, 'quantity': 3}, {'price': 2.5, 'name': 'kiwi', 'quantity': 3.5}, {'quantity': 2.45, 'price': 1.8, 'name': 'peach'}]\n",
    "\n",
    "sub_total = 0\n",
    "total = 0\n",
    "\n",
    "for i in order_list:\n",
    "    sub_total = i['price'] * i['quantity']\n",
    "    total = total + sub_total\n",
    "    \n",
    "print(f'The total for the order is {total:.1f}')"
   ]
  }
 ],
 "metadata": {
  "kernelspec": {
   "display_name": "Python 3.9.13 ('ds')",
   "language": "python",
   "name": "python3"
  },
  "language_info": {
   "codemirror_mode": {
    "name": "ipython",
    "version": 3
   },
   "file_extension": ".py",
   "mimetype": "text/x-python",
   "name": "python",
   "nbconvert_exporter": "python",
   "pygments_lexer": "ipython3",
   "version": "3.9.13"
  },
  "orig_nbformat": 4,
  "vscode": {
   "interpreter": {
    "hash": "cad707504f236a7806cb291d59c3219b346cf970555767cd38f12624f6933844"
   }
  }
 },
 "nbformat": 4,
 "nbformat_minor": 2
}
