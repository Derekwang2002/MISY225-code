{
 "cells": [
  {
   "cell_type": "code",
   "execution_count": 1,
   "metadata": {},
   "outputs": [],
   "source": [
    "f = open('test2.txt', 'w')"
   ]
  },
  {
   "cell_type": "code",
   "execution_count": 2,
   "metadata": {},
   "outputs": [
    {
     "data": {
      "text/plain": [
       "9"
      ]
     },
     "execution_count": 2,
     "metadata": {},
     "output_type": "execute_result"
    }
   ],
   "source": [
    "f.write('hello there ? \\n')\n",
    "f.write('Pardon? \\n')\n"
   ]
  },
  {
   "cell_type": "code",
   "execution_count": 3,
   "metadata": {},
   "outputs": [],
   "source": [
    "f.close()"
   ]
  },
  {
   "cell_type": "code",
   "execution_count": 5,
   "metadata": {},
   "outputs": [],
   "source": [
    "t = open('test3.txt', 'a')"
   ]
  },
  {
   "cell_type": "code",
   "execution_count": 6,
   "metadata": {},
   "outputs": [],
   "source": [
    "t.close()"
   ]
  },
  {
   "cell_type": "code",
   "execution_count": 7,
   "metadata": {},
   "outputs": [],
   "source": [
    "import os"
   ]
  },
  {
   "cell_type": "code",
   "execution_count": 8,
   "metadata": {},
   "outputs": [],
   "source": [
    "#robust ｜lu bang\n",
    "if os.path.exists('test2.txt'):\n",
    "    os.rename('test2.txt', 'tsttst.txt')\n",
    "\n"
   ]
  },
  {
   "cell_type": "code",
   "execution_count": 9,
   "metadata": {},
   "outputs": [
    {
     "name": "stdout",
     "output_type": "stream",
     "text": [
      "https://api.unsplash.com/photos/random\n"
     ]
    },
    {
     "data": {
      "text/html": [
       "<img src=\"https://images.unsplash.com/photo-1663352587435-22b4a87d4f0b?crop=entropy&cs=tinysrgb&fit=max&fm=jpg&ixid=MnwzNzA1NTl8MHwxfHJhbmRvbXx8fHx8fHx8fDE2NjUzNjgxMTA&ixlib=rb-1.2.1&q=80&w=1080\"/>"
      ],
      "text/plain": [
       "<IPython.core.display.Image object>"
      ]
     },
     "execution_count": 9,
     "metadata": {},
     "output_type": "execute_result"
    }
   ],
   "source": [
    "import requests\n",
    "\n",
    "# according to https://unsplash.com/documentation#public-authentication\n",
    "# you need to enter your access key as part of the http header\n",
    "\n",
    "headers = {\n",
    "    'Authorization': 'Client-ID hQVDYQzmgEnKuhNWHR68bf28H9kaFsXfU2NONA-3li8'  # change to 'Authorization': 'Client-ID AwrUoBEOtF...'\n",
    "}\n",
    "\n",
    "# read https://unsplash.com/documentation#get-a-random-photo\n",
    "base_url = 'https://api.unsplash.com'\n",
    "random_photo_url = base_url + '/photos/random'\n",
    "print(random_photo_url)  # check the url\n",
    "response = requests.request('GET', random_photo_url, headers=headers)\n",
    "random_photo = response.json()\n",
    "\n",
    "# use data.keys() to analyze the returned data structure\n",
    "image_url_regular = random_photo['urls']['regular']\n",
    "\n",
    "# show the image in the notebook\n",
    "\n",
    "from IPython.display import Image\n",
    "Image(url=image_url_regular)\n"
   ]
  },
  {
   "cell_type": "code",
   "execution_count": 10,
   "metadata": {},
   "outputs": [
    {
     "name": "stdout",
     "output_type": "stream",
     "text": [
      "https://api.unsplash.com/photos/random\n"
     ]
    },
    {
     "data": {
      "text/html": [
       "<img src=\"https://images.unsplash.com/photo-1662756067673-2f1b2c216458?crop=entropy&cs=tinysrgb&fit=max&fm=jpg&ixid=MnwzNzA1Njl8MHwxfHJhbmRvbXx8fHx8fHx8fDE2NjUzNjgyMDc&ixlib=rb-1.2.1&q=80&w=1080\"/>"
      ],
      "text/plain": [
       "<IPython.core.display.Image object>"
      ]
     },
     "execution_count": 10,
     "metadata": {},
     "output_type": "execute_result"
    }
   ],
   "source": [
    "# test \n",
    "headers = {\n",
    "    'Authorization': 'Client-ID _ktbt9fykBVXTANBra8IPMupDYj_WDkaB8tE9pZ9r7g'  # change to 'Authorization': 'Client-ID AwrUoBEOtF...'\n",
    "}\n",
    "for i in range(50):\n",
    "    # read https://unsplash.com/documentation#get-a-random-photo\n",
    "    base_url = 'https://api.unsplash.com'\n",
    "    random_photo_url = base_url + '/photos/random'\n",
    "    print(random_photo_url)  # check the url\n",
    "    response = requests.request('GET', random_photo_url, headers=headers)\n",
    "    random_photo = response.json()\n",
    "\n",
    "    # use data.keys() to analyze the returned data structure\n",
    "    image_url_regular = random_photo['urls']['regular']\n",
    "\n",
    "    # show the image in the notebook\n",
    "\n",
    "    from IPython.display import Image\n",
    "    Image(url=image_url_regular)"
   ]
  },
  {
   "cell_type": "code",
   "execution_count": 11,
   "metadata": {},
   "outputs": [
    {
     "name": "stdout",
     "output_type": "stream",
     "text": [
      "https://api.unsplash.com/photos/random\n"
     ]
    }
   ],
   "source": [
    "base_url = 'https://api.unsplash.com'\n",
    "random_photo_url = base_url + '/photos/random'\n",
    "print(random_photo_url)  # check the url\n"
   ]
  },
  {
   "cell_type": "code",
   "execution_count": null,
   "metadata": {},
   "outputs": [],
   "source": [
    "response = requests.request('GET', random_photo_url, headers=headers)\n",
    "random_photo = response.json()"
   ]
  },
  {
   "cell_type": "code",
   "execution_count": 12,
   "metadata": {},
   "outputs": [
    {
     "data": {
      "text/plain": [
       "dict_keys(['id', 'created_at', 'updated_at', 'promoted_at', 'width', 'height', 'color', 'blur_hash', 'description', 'alt_description', 'urls', 'links', 'likes', 'liked_by_user', 'current_user_collections', 'sponsorship', 'topic_submissions', 'user', 'exif', 'location', 'views', 'downloads'])"
      ]
     },
     "execution_count": 12,
     "metadata": {},
     "output_type": "execute_result"
    }
   ],
   "source": [
    "random_photo.keys()"
   ]
  },
  {
   "cell_type": "code",
   "execution_count": 14,
   "metadata": {},
   "outputs": [
    {
     "data": {
      "text/plain": [
       "'https://images.unsplash.com/photo-1662756067673-2f1b2c216458?ixid=MnwzNzA1Njl8MHwxfHJhbmRvbXx8fHx8fHx8fDE2NjUzNjgyMDc&ixlib=rb-1.2.1'"
      ]
     },
     "execution_count": 14,
     "metadata": {},
     "output_type": "execute_result"
    }
   ],
   "source": [
    "random_photo['urls']['raw']"
   ]
  },
  {
   "cell_type": "code",
   "execution_count": null,
   "metadata": {},
   "outputs": [],
   "source": []
  }
 ],
 "metadata": {
  "kernelspec": {
   "display_name": "Python 3.10.4 ('ds')",
   "language": "python",
   "name": "python3"
  },
  "language_info": {
   "codemirror_mode": {
    "name": "ipython",
    "version": 3
   },
   "file_extension": ".py",
   "mimetype": "text/x-python",
   "name": "python",
   "nbconvert_exporter": "python",
   "pygments_lexer": "ipython3",
   "version": "3.10.4"
  },
  "orig_nbformat": 4,
  "vscode": {
   "interpreter": {
    "hash": "8d330fb0e7e86b15974b0e807d7a4b9768000ba2a92d88a4cc3ee9a6e179ad84"
   }
  }
 },
 "nbformat": 4,
 "nbformat_minor": 2
}
