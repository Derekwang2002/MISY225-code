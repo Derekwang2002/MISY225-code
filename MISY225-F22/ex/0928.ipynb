{
 "cells": [
  {
   "cell_type": "code",
   "execution_count": 1,
   "metadata": {},
   "outputs": [],
   "source": [
    "# file handling"
   ]
  },
  {
   "cell_type": "code",
   "execution_count": 1,
   "metadata": {},
   "outputs": [],
   "source": [
    "f = open('song.txt', 'r')"
   ]
  },
  {
   "cell_type": "code",
   "execution_count": 3,
   "metadata": {},
   "outputs": [
    {
     "name": "stdout",
     "output_type": "stream",
     "text": [
      "<_io.TextIOWrapper name='song.txt' mode='r' encoding='UTF-8'>\n"
     ]
    }
   ],
   "source": [
    "# loop over a file\n",
    "for i in f:\n",
    "    print(i)"
   ]
  },
  {
   "cell_type": "code",
   "execution_count": 12,
   "metadata": {},
   "outputs": [
    {
     "data": {
      "text/plain": [
       "3"
      ]
     },
     "execution_count": 12,
     "metadata": {},
     "output_type": "execute_result"
    }
   ],
   "source": [
    "# return in 1 line\n",
    "song = f.read() # need reset the reading pointer\n",
    "song.lower().count('beautiful')"
   ]
  },
  {
   "cell_type": "code",
   "execution_count": 14,
   "metadata": {},
   "outputs": [
    {
     "data": {
      "text/plain": [
       "['You Are So Beautiful\\n',\n",
       " 'by Joe Cocker\\n',\n",
       " 'You are so beautiful\\n',\n",
       " 'To me\\n',\n",
       " \"Can't you see\\n\",\n",
       " \"You're everything I hoped for\\n\",\n",
       " \"You're everything I need\\n\",\n",
       " 'You are so beautiful\\n',\n",
       " 'To me\\n']"
      ]
     },
     "execution_count": 14,
     "metadata": {},
     "output_type": "execute_result"
    }
   ],
   "source": [
    "song = f.readlines() # return as a list\n",
    "song"
   ]
  },
  {
   "cell_type": "code",
   "execution_count": 4,
   "metadata": {},
   "outputs": [
    {
     "data": {
      "text/plain": [
       "'You Are So Beautiful\\n'"
      ]
     },
     "execution_count": 4,
     "metadata": {},
     "output_type": "execute_result"
    }
   ],
   "source": [
    "f = open('song.txt')\n",
    "one_line = f.readline()\n",
    "one_line"
   ]
  },
  {
   "cell_type": "code",
   "execution_count": 19,
   "metadata": {},
   "outputs": [],
   "source": [
    "f = open('test.txt', 'w') # content will totally wipped out in 'w' mode if have\n",
    "f.write('hello')\n",
    "f.write(' Welcome \\n here')\n",
    "f.close()"
   ]
  },
  {
   "cell_type": "code",
   "execution_count": 20,
   "metadata": {},
   "outputs": [],
   "source": [
    "f = open('test.txt', 'a')\n",
    "f.write('\\nI\\'m good')\n",
    "f.close()"
   ]
  },
  {
   "cell_type": "code",
   "execution_count": 25,
   "metadata": {},
   "outputs": [],
   "source": [
    "# json\n",
    "import json"
   ]
  },
  {
   "cell_type": "code",
   "execution_count": 27,
   "metadata": {},
   "outputs": [
    {
     "data": {
      "text/plain": [
       "{'name': 'tom', 'age': 23}"
      ]
     },
     "execution_count": 27,
     "metadata": {},
     "output_type": "execute_result"
    }
   ],
   "source": [
    "user = {'name': 'tom', 'age': 23}\n",
    "#json string\n",
    "s = '{\"name\": \"tom\", \"age\": 23}'\n",
    "\n",
    "a = json.loads(s) #parse a json file into a dict\n",
    "a"
   ]
  },
  {
   "cell_type": "code",
   "execution_count": 30,
   "metadata": {},
   "outputs": [
    {
     "data": {
      "text/plain": [
       "[{'name': 'Tom',\n",
       "  'age': 30,\n",
       "  'married': True,\n",
       "  'children': ['Ann', 'Steve'],\n",
       "  'cars': [{'model': 'BMW 230', 'mpg': 28.5},\n",
       "   {'model': 'Ford Edge', 'mpg': 24.1}]},\n",
       " {'name': 'John', 'age': 20, 'cars': [{'model': 'Acura MDX', 'mpg': 17.6}]}]"
      ]
     },
     "execution_count": 30,
     "metadata": {},
     "output_type": "execute_result"
    }
   ],
   "source": [
    "f = open('users.json')\n",
    "\n",
    "user = json.load(f)\n",
    "user"
   ]
  },
  {
   "cell_type": "code",
   "execution_count": 31,
   "metadata": {},
   "outputs": [
    {
     "data": {
      "text/plain": [
       "'BMW 230'"
      ]
     },
     "execution_count": 31,
     "metadata": {},
     "output_type": "execute_result"
    }
   ],
   "source": [
    "user[0]['cars'][0]['model']"
   ]
  },
  {
   "cell_type": "code",
   "execution_count": 48,
   "metadata": {},
   "outputs": [],
   "source": [
    "f = open('users.json')"
   ]
  },
  {
   "cell_type": "code",
   "execution_count": 34,
   "metadata": {},
   "outputs": [],
   "source": [
    "# API and JSON\n",
    "import requests"
   ]
  },
  {
   "cell_type": "code",
   "execution_count": 45,
   "metadata": {},
   "outputs": [],
   "source": [
    "api_url = 'https://www.boredapi.com/api/activity/'\n",
    "response = requests.request('GET', api_url) # DOS attack?"
   ]
  },
  {
   "cell_type": "code",
   "execution_count": 46,
   "metadata": {},
   "outputs": [
    {
     "data": {
      "text/plain": [
       "{'activity': 'Go stargazing',\n",
       " 'type': 'relaxation',\n",
       " 'participants': 1,\n",
       " 'price': 0,\n",
       " 'link': '',\n",
       " 'key': '8832605',\n",
       " 'accessibility': 0.1}"
      ]
     },
     "execution_count": 46,
     "metadata": {},
     "output_type": "execute_result"
    }
   ],
   "source": [
    "data = response.json()\n",
    "data"
   ]
  },
  {
   "cell_type": "code",
   "execution_count": 47,
   "metadata": {},
   "outputs": [
    {
     "data": {
      "text/plain": [
       "'Go stargazing'"
      ]
     },
     "execution_count": 47,
     "metadata": {},
     "output_type": "execute_result"
    }
   ],
   "source": [
    "len(data.keys())\n",
    "data['activity']"
   ]
  },
  {
   "cell_type": "code",
   "execution_count": 49,
   "metadata": {},
   "outputs": [
    {
     "data": {
      "text/plain": [
       "'j%20k%20rowling'"
      ]
     },
     "execution_count": 49,
     "metadata": {},
     "output_type": "execute_result"
    }
   ],
   "source": [
    "name = 'j k rowling'\n",
    "\n",
    "import urllib.parse\n",
    "\n",
    "name_encoded = urllib.parse.quote(name)\n",
    "name_encoded"
   ]
  },
  {
   "cell_type": "code",
   "execution_count": 50,
   "metadata": {},
   "outputs": [
    {
     "data": {
      "text/plain": [
       "'https://openlibrary.org/search/authors.json?q=j%20k%20rowling'"
      ]
     },
     "execution_count": 50,
     "metadata": {},
     "output_type": "execute_result"
    }
   ],
   "source": [
    "author_search_api = 'https://openlibrary.org/search/authors.json'\n",
    "\n",
    "search = author_search_api + '?q=' + name_encoded # the middle part is defined by thr author of the api.\n",
    "search"
   ]
  },
  {
   "cell_type": "code",
   "execution_count": 51,
   "metadata": {},
   "outputs": [],
   "source": [
    "response = requests.request('GET', search)"
   ]
  },
  {
   "cell_type": "code",
   "execution_count": 53,
   "metadata": {},
   "outputs": [
    {
     "data": {
      "text/plain": [
       "dict_keys(['numFound', 'start', 'numFoundExact', 'docs'])"
      ]
     },
     "execution_count": 53,
     "metadata": {},
     "output_type": "execute_result"
    }
   ],
   "source": [
    "data = response.json()\n",
    "data.keys()"
   ]
  },
  {
   "cell_type": "code",
   "execution_count": 57,
   "metadata": {},
   "outputs": [
    {
     "data": {
      "text/plain": [
       "'OL23919A'"
      ]
     },
     "execution_count": 57,
     "metadata": {},
     "output_type": "execute_result"
    }
   ],
   "source": [
    "data['docs'][0]['key']"
   ]
  },
  {
   "cell_type": "code",
   "execution_count": null,
   "metadata": {},
   "outputs": [],
   "source": []
  }
 ],
 "metadata": {
  "kernelspec": {
   "display_name": "Python 3.10.4 ('ds')",
   "language": "python",
   "name": "python3"
  },
  "language_info": {
   "codemirror_mode": {
    "name": "ipython",
    "version": 3
   },
   "file_extension": ".py",
   "mimetype": "text/x-python",
   "name": "python",
   "nbconvert_exporter": "python",
   "pygments_lexer": "ipython3",
   "version": "3.10.4"
  },
  "orig_nbformat": 4,
  "vscode": {
   "interpreter": {
    "hash": "8d330fb0e7e86b15974b0e807d7a4b9768000ba2a92d88a4cc3ee9a6e179ad84"
   }
  }
 },
 "nbformat": 4,
 "nbformat_minor": 2
}
