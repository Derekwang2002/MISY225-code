{
 "cells": [
  {
   "cell_type": "markdown",
   "metadata": {},
   "source": [
    "# Assignment 1\n",
    "## Task 2\n",
    "---\n",
    "You need to complete the following programs."
   ]
  },
  {
   "cell_type": "markdown",
   "metadata": {},
   "source": [
    "## Questions 1\n",
    "\n",
    "### Self  introduction\n",
    "#### Wang Xing'en, or just Derek\n",
    "I am a student from [*SWUFE-UD institute*](https://lerner.udel.edu/programs/swufe-ud-institute-of-data-science/), living in **WeiFang, ShanDong province**.\n",
    "\n",
    "Examples of local foods in here are:\n",
    "- Rou Huo Shao\n",
    "- Chao Tian Guo\n",
    "- Qing Luo Bo\n",
    "\n",
    "The first python function I acquired is `print()`\n",
    "\n",
    "***Hoping to enjoy MISY225!***"
   ]
  },
  {
   "cell_type": "markdown",
   "metadata": {},
   "source": [
    "# Question 2\n",
    "\n",
    "Develop a simple saving calculator with the following requirements:\n",
    "\n",
    "- an input function must be used to ask users to enter the initial deposit\n",
    "- the user input must be stored as a variable - you may need to do type conversion\n",
    "- the balance must be a variable, whose value is the total balance after 10 years with fixed interest rate of 8%\n",
    "- a print function must be used to return the result to the user - you may need to do type conversion"
   ]
  },
  {
   "cell_type": "code",
   "execution_count": 3,
   "metadata": {},
   "outputs": [
    {
     "name": "stdout",
     "output_type": "stream",
     "text": [
      "your balance after 10 years based on 8% interest will be 215.89\n"
     ]
    }
   ],
   "source": [
    "# complete the program in this cell\n",
    "# Question 2\n",
    "def interest (a):\n",
    "    return '%.2f' %(float(a) * pow(1.08, 10))\n",
    "\n",
    "initial_dep = input(\"your initial deposit is:\") #ask user to enter initial deposit and store as a variable\n",
    "balance = str(interest(initial_dep)) #variable of balance\n",
    "print(\"your balance after 10 years based on 8% interest will be \" + balance) #result\n"
   ]
  }
 ],
 "metadata": {
  "kernelspec": {
   "display_name": "Python 3.10.4 ('ds')",
   "language": "python",
   "name": "python3"
  },
  "language_info": {
   "codemirror_mode": {
    "name": "ipython",
    "version": 3
   },
   "file_extension": ".py",
   "mimetype": "text/x-python",
   "name": "python",
   "nbconvert_exporter": "python",
   "pygments_lexer": "ipython3",
   "version": "3.10.4"
  },
  "orig_nbformat": 4,
  "vscode": {
   "interpreter": {
    "hash": "8d330fb0e7e86b15974b0e807d7a4b9768000ba2a92d88a4cc3ee9a6e179ad84"
   }
  }
 },
 "nbformat": 4,
 "nbformat_minor": 2
}
