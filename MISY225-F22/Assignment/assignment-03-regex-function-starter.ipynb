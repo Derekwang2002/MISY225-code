{
 "cells": [
  {
   "cell_type": "markdown",
   "metadata": {},
   "source": [
    "# Question 1\n",
    "\n",
    "Search the lyrics of John Lennon's \"Imagine\" using regular expression and work on the programs according to the requirements below."
   ]
  },
  {
   "cell_type": "code",
   "execution_count": 44,
   "metadata": {},
   "outputs": [],
   "source": [
    "# Don't change this cell - just run it\n",
    "imagine = (\n",
    "    \"Imagine there's no heaven. It's easy if you try. No hell below us. Above us only sky. \" + \n",
    "    \"Imagine all the people. Living for today... Aha-ah..... \" +\n",
    "    \"Imagine there's no countries. It isn't hard to do. Nothing to kill or die for. And no religion, too. \" +\n",
    "    \"Imagine all the people. Living life in peace.... You...... \" +\n",
    "    \"You may say I'm a dreamer. But I'm not the only one. I hope someday you'll join us. And the world will be as one, \" +\n",
    "    \"Imagine no possessions. I wonder if you can. No need for greed or hunger. A brotherhood of man. \" + \n",
    "    \"Imagine all the people. Sharing all the world..... You...... \" +\n",
    "    \"You may say I'm a dreamer. But I'm not the only one. I hope someday you'll join us. And the world will live as one.\"\n",
    "    )"
   ]
  },
  {
   "cell_type": "code",
   "execution_count": 45,
   "metadata": {},
   "outputs": [],
   "source": [
    "import re"
   ]
  },
  {
   "cell_type": "markdown",
   "metadata": {},
   "source": [
    "### Task 1.1\n",
    "\n",
    "Use split, strip, and for loop to process the first 48 characters of the song to print out the following:\n",
    "\n",
    "```\n",
    "1: Imagine there's no heaven;\n",
    "2: It's easy if you try;\n",
    "```"
   ]
  },
  {
   "cell_type": "code",
   "execution_count": 46,
   "metadata": {},
   "outputs": [
    {
     "name": "stdout",
     "output_type": "stream",
     "text": [
      "1: Imagine there's no heaven;\n",
      "2: It's easy if you try;\n"
     ]
    }
   ],
   "source": [
    "first_48 = imagine[:48]\n",
    "sentence = first_48.split(sep='.')\n",
    "\n",
    "c = 1\n",
    "\n",
    "for i in sentence:\n",
    "    if i == '':\n",
    "        continue\n",
    "    else:\n",
    "        i = i.strip()\n",
    "        print(f'{c}: {i};')\n",
    "        c += 1"
   ]
  },
  {
   "cell_type": "markdown",
   "metadata": {},
   "source": [
    "### Task 1.2\n",
    "\n",
    "find all 'imagine' word, print the total number of occurrence and the starting index of each occurrence\n",
    "\n",
    "Sample output:\n",
    "\n",
    "```\n",
    "the total number of occurrence of \"imagine\" is 6\n",
    "the starting index of each imagine is:\n",
    "0\n",
    "86\n",
    "142\n",
    "243\n",
    "416\n",
    "512\n",
    "```\n"
   ]
  },
  {
   "cell_type": "code",
   "execution_count": 47,
   "metadata": {},
   "outputs": [
    {
     "name": "stdout",
     "output_type": "stream",
     "text": [
      "the total number of occurrence of \"imagine\" is 6 \n",
      "the starting index of each imagine is: \n",
      "0\n",
      "86\n",
      "142\n",
      "243\n",
      "416\n",
      "512\n"
     ]
    }
   ],
   "source": [
    "num_img = imagine.lower().count('imagine')\n",
    "\n",
    "regex = r'imagine '\n",
    "all_img = re.finditer(regex, imagine.lower())\n",
    "start_index = []\n",
    "\n",
    "for i in all_img:\n",
    "    start_index.append(i.span()[0])\n",
    "\n",
    "print(f'the total number of occurrence of \"imagine\" is {num_img} ')\n",
    "print(f'the starting index of each imagine is: ')\n",
    "\n",
    "for i in start_index:\n",
    "    print(i)"
   ]
  },
  {
   "cell_type": "markdown",
   "metadata": {},
   "source": [
    "### Task 1.3\n",
    "\n",
    "find all substrings starts with 'imagine' ends with '.'\n",
    "\n",
    "```\n",
    "[\"imagine there's no heaven.\",\n",
    " 'imagine all the people.',\n",
    " \"imagine there's no countries.\",\n",
    " 'imagine all the people.',\n",
    " 'imagine no possessions.',\n",
    " 'imagine all the people.']\n",
    " ```"
   ]
  },
  {
   "cell_type": "code",
   "execution_count": 48,
   "metadata": {},
   "outputs": [
    {
     "data": {
      "text/plain": [
       "[\"imagine there's no heaven.\",\n",
       " 'imagine all the people.',\n",
       " \"imagine there's no countries.\",\n",
       " 'imagine all the people.',\n",
       " 'imagine all the people.']"
      ]
     },
     "execution_count": 48,
     "metadata": {},
     "output_type": "execute_result"
    }
   ],
   "source": [
    "# solution 1\n",
    "sub_img_1 = [] # to store answers\n",
    "sentence_img = imagine.lower().split(sep='.') # split it in to sentences(ends with .), while elimnated the effect of '......'\n",
    "\n",
    "# find satified solutions and put them into a list\n",
    "for i in sentence_img:\n",
    "    i = i.strip()\n",
    "    if re.match('imagine',i) is not None:\n",
    "        sub_img_1.append(i+'.')\n",
    "\n",
    "sub_img_1\n"
   ]
  },
  {
   "cell_type": "code",
   "execution_count": 80,
   "metadata": {},
   "outputs": [
    {
     "data": {
      "text/plain": [
       "[\"imagine there's no heaven.\",\n",
       " 'imagine all the people.',\n",
       " \"imagine there's no countries.\",\n",
       " 'imagine all the people.',\n",
       " 'imagine no possessions.',\n",
       " 'imagine all the people.']"
      ]
     },
     "execution_count": 80,
     "metadata": {},
     "output_type": "execute_result"
    }
   ],
   "source": [
    "# solution 2\n",
    "regex = r'imagine.*?\\.'\n",
    "\n",
    "sub_img_2 = re.findall(regex, imagine.lower())\n",
    "sub_img_2"
   ]
  },
  {
   "cell_type": "markdown",
   "metadata": {},
   "source": [
    "### Task 1.4\n",
    "\n",
    "find all substrings starts with 'imagine' ends with 'people' with location info.\n",
    "\n",
    "Sample output:\n",
    "```\n",
    "(86, 108) imagine all the people\n",
    "(243, 265) imagine all the people\n",
    "(512, 534) imagine all the people\n",
    "```"
   ]
  },
  {
   "cell_type": "code",
   "execution_count": 50,
   "metadata": {},
   "outputs": [
    {
     "name": "stdout",
     "output_type": "stream",
     "text": [
      "(86, 108) imagine all the people\n",
      "(243, 265) imagine all the people\n",
      "(512, 534) imagine all the people\n"
     ]
    }
   ],
   "source": [
    "regex = r'imagine([^\\.]*)people' # group is used just for easier understanding.\n",
    "sub_imagine_people = re.finditer(regex, imagine.lower())\n",
    "\n",
    "for i in sub_imagine_people:\n",
    "    print(i.span(), i.group()) \n"
   ]
  },
  {
   "cell_type": "markdown",
   "metadata": {},
   "source": [
    "## Question 2\n",
    "\n",
    "Develop a grade calculator with the following requirements:\n",
    "\n",
    "\n",
    "- get the input from the user using an input box and use regular expression to check the user input must be numbers between 1 and 100 (hint: use `re.match()` and `^` `$`)and prompt the user to re-enter if the input is invalid (while loop with continue and break)\n",
    "- use input box to ask whether the bonus assignment is finished or not - allow the users to enter \"yes\" or \"no\" in case insensitive way with trailing spaces, such as \"Yes\", \"YES\", \"YES  \" would all be valid input - use a while loop to prompt the users to enter valid input.\n",
    "- develop a function get_letter_grade() with two parameters: grade and bonus. If the bonus input is \"yes\", add 5 points to the grade and return the letter grade according to the following rule: A if >= 90, B if >= 80, C if >=70, D if < 70. Return the letter grade\n",
    "- call the function to print out the letter grade\n",
    "\n",
    "Some sample outputs:\n",
    "\n",
    "<img width=\"597\" src=\"https://user-images.githubusercontent.com/595772/192132635-3607b45e-d75c-4760-a070-50d1d83356dc.png\">\n",
    "\n",
    "<img width=\"597\" src=\"https://user-images.githubusercontent.com/595772/192132638-cd5f9018-ee71-46a7-8916-6c6293fac876.png\">\n",
    "\n",
    "`your grade is 76.0 and bonus assignment answer is no and letter grade is C`\n",
    "\n",
    "\n",
    "---\n",
    "<img width=\"598\" src=\"https://user-images.githubusercontent.com/595772/192132717-adbc6aee-40fa-4697-891c-319ae2210d2a.png\">\n",
    "\n",
    "<img width=\"597\" src=\"https://user-images.githubusercontent.com/595772/192132719-dcc858e4-e20a-4c84-8ab3-968e725e9b42.png\">\n",
    "\n",
    "`your grade is 88.0 and bonus assignment answer is yes and letter grade is A`\n"
   ]
  },
  {
   "cell_type": "code",
   "execution_count": 51,
   "metadata": {},
   "outputs": [],
   "source": [
    "import re"
   ]
  },
  {
   "cell_type": "code",
   "execution_count": 102,
   "metadata": {},
   "outputs": [
    {
     "name": "stdout",
     "output_type": "stream",
     "text": [
      "your grade is 85.67 and bonus assignment answer is yes and letter grade is A\n"
     ]
    }
   ],
   "source": [
    "# get input\n",
    "user_grade = input('enter your grade (numbers only: 1-100)')\n",
    "\n",
    "while True:\n",
    "    user_grade = user_grade.strip()\n",
    "\n",
    "    if re.match(r'[1-9]\\d?(\\.\\d+)?$|100$',user_grade) is not None: # float number is supported\n",
    "        break\n",
    "    else:\n",
    "        user_grade = input('Invalid: Numbers 1-100 only! Pleas try again.')\n",
    "\n",
    "user_bonus = input('Bonus assignment finish (yes or no)?')\n",
    "\n",
    "while True:\n",
    "    user_bonus = user_bonus.lower().strip()\n",
    "    \n",
    "    if re.match('(yes|no)$', user_bonus) is not None:\n",
    "        break\n",
    "    else:\n",
    "        user_bonus = input('Invalid: Please input \\'yes\\' or \\'no\\' only! Try again.')\n",
    "        continue\n",
    "\n",
    "# print(user_grade)\n",
    "# print(user_bonus)\n",
    "\n",
    "\n",
    "# define the get_letter_grade() function\n",
    "def get_letter_grade(grades, if_bonus):\n",
    "\n",
    "    if if_bonus == 'yes':\n",
    "        bonus_point = 5\n",
    "    else:\n",
    "        bonus_point = 0\n",
    "\n",
    "    total_grade = float(grades) + bonus_point\n",
    "\n",
    "    if total_grade >= 90:\n",
    "        letter_grade = 'A'\n",
    "    elif total_grade >= 80:\n",
    "        letter_grade = 'B'\n",
    "    elif total_grade >= 70:\n",
    "        letter_grade = 'C'\n",
    "    else:\n",
    "        letter_grade = 'D'\n",
    "    \n",
    "    return letter_grade\n",
    "    \n",
    "\n",
    "# call the function to print the result\n",
    "letter_grade = get_letter_grade(user_grade, user_bonus)\n",
    "print(f'your grade is {user_grade} and bonus assignment answer is {user_bonus} and letter grade is {letter_grade}')"
   ]
  },
  {
   "cell_type": "code",
   "execution_count": null,
   "metadata": {},
   "outputs": [],
   "source": []
  }
 ],
 "metadata": {
  "kernelspec": {
   "display_name": "Python 3.10.4 ('ds')",
   "language": "python",
   "name": "python3"
  },
  "language_info": {
   "codemirror_mode": {
    "name": "ipython",
    "version": 3
   },
   "file_extension": ".py",
   "mimetype": "text/x-python",
   "name": "python",
   "nbconvert_exporter": "python",
   "pygments_lexer": "ipython3",
   "version": "3.10.4"
  },
  "orig_nbformat": 4,
  "vscode": {
   "interpreter": {
    "hash": "8d330fb0e7e86b15974b0e807d7a4b9768000ba2a92d88a4cc3ee9a6e179ad84"
   }
  }
 },
 "nbformat": 4,
 "nbformat_minor": 2
}
