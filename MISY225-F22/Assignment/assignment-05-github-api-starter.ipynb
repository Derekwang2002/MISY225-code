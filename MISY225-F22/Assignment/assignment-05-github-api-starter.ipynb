{
 "cells": [
  {
   "cell_type": "markdown",
   "metadata": {},
   "source": [
    "# API and Github\n",
    "\n",
    "Follow the instruction: https://www.notion.so/harryjwang/Assignment-5-API-and-Github-2cefb78d67ca4446b2cadb2afe6adecb"
   ]
  },
  {
   "cell_type": "code",
   "execution_count": 35,
   "metadata": {},
   "outputs": [],
   "source": [
    "import requests\n",
    "import time\n",
    "import json\n",
    "import numpy as np"
   ]
  },
  {
   "cell_type": "markdown",
   "metadata": {},
   "source": [
    "### Task1"
   ]
  },
  {
   "cell_type": "code",
   "execution_count": 61,
   "metadata": {},
   "outputs": [],
   "source": [
    "# initialize\n",
    "headers = {\n",
    "    'Authorization': 'Client-ID hQVDYQzmgEnKuhNWHR68bf28H9kaFsXfU2NONA-3li8' \n",
    "}\n",
    "\n",
    "base_url = 'https://api.unsplash.com'\n",
    "list_photo_url = base_url + '/photos?page='\n",
    "id_photo = []\n",
    "\n",
    "for i in range(3):\n",
    "\n",
    "    response = requests.request('GET', f'{list_photo_url}{i+1}', headers=headers)\n",
    "    list_photo = response.json()\n",
    "    \n",
    "    for j in range(len(list_photo)):\n",
    "        id_photo.append(list_photo[j]['id'])\n"
   ]
  },
  {
   "cell_type": "code",
   "execution_count": 94,
   "metadata": {},
   "outputs": [
    {
     "data": {
      "text/plain": [
       "25"
      ]
     },
     "execution_count": 94,
     "metadata": {},
     "output_type": "execute_result"
    }
   ],
   "source": [
    "id_photo_set = list(set(id_photo))[:25]\n",
    "len(id_photo_set)"
   ]
  },
  {
   "cell_type": "code",
   "execution_count": 67,
   "metadata": {},
   "outputs": [],
   "source": [
    "# pull requests, get details\n",
    "editorial_photo = []\n",
    "\n",
    "for i in id_photo_set:\n",
    "\n",
    "    get_photo = base_url + '/photos/' + i\n",
    "    photo_response = requests.request('GET', get_photo, headers=headers) # send 25 requests, carefully run!\n",
    "    time.sleep(2)\n",
    "\n",
    "    editorial_photo.append(photo_response.json())\n"
   ]
  },
  {
   "cell_type": "code",
   "execution_count": 68,
   "metadata": {},
   "outputs": [],
   "source": [
    "# dump 25 photos in json file\n",
    "photo_json = open('photo-WangXingen.json', 'w')\n",
    "json.dump(editorial_photo, photo_json)\n",
    "photo_json.close()"
   ]
  },
  {
   "cell_type": "markdown",
   "metadata": {},
   "source": [
    "### Task3"
   ]
  },
  {
   "cell_type": "code",
   "execution_count": 88,
   "metadata": {},
   "outputs": [
    {
     "name": "stdout",
     "output_type": "stream",
     "text": [
      "Is any dupicated items? True \n",
      "There are 123 unique photos in the dataset.\n",
      "19 photos are sponsored and the sponsor percentage is 15.45%.\n",
      "There are 6 unique sponsors: Mailchimp, Microsoft 365, Microsoft Edge, Samsung Memory, Surface, Windows\n"
     ]
    }
   ],
   "source": [
    "# read addtional file in\n",
    "add_photo = open('photos.json')\n",
    "task_photo = json.load(add_photo) + editorial_photo\n",
    "add_photo.close()\n",
    "\n",
    "task_photo_set = [] # the final one\n",
    "task_photo_id = []\n",
    "\n",
    "# exclude duplicated items\n",
    "for i in task_photo: \n",
    "\n",
    "    if i['id'] not in task_photo_id:\n",
    "        task_photo_set.append(i)\n",
    "    \n",
    "    task_photo_id.append(i['id'])\n",
    "\n",
    "# see if duplicated\n",
    "judge = (len(task_photo)==len(task_photo_set)) \n",
    "print(f'Is any dupicated items? {not judge} ')\n",
    "\n",
    "# get sponsor info\n",
    "sponsors_info = []\n",
    "\n",
    "for i in range(len(task_photo_set)):\n",
    "    if task_photo_set[i].get('sponsorship') is not None:\n",
    "        info = task_photo_set[i]['sponsorship']['sponsor']['name']\n",
    "        sponsors_info.append(info)\n",
    "\n",
    "sponsors = np.unique(sponsors_info)\n",
    "sponsored_num = len(sponsors_info)\n",
    "sponsors_num = len(sponsors)\n",
    "\n",
    "print(\n",
    "    f'There are {len(task_photo_set)} unique photos in the dataset.\\n' +\n",
    "    f'{sponsored_num} photos are sponsored and the sponsor percentage is {sponsored_num/len(task_photo_set):.2%}.\\n' + \n",
    "    f'There are {sponsors_num} unique sponsors: ' + \n",
    "    ', '.join(sponsors)\n",
    ")\n"
   ]
  },
  {
   "cell_type": "code",
   "execution_count": 92,
   "metadata": {},
   "outputs": [],
   "source": [
    "# analyze camera info\n",
    "camera_info = []\n",
    "for i in task_photo_set:\n",
    "    camera_info.append(i['exif']['make'])\n",
    "\n",
    "raw_camera_info = np.array(camera_info)\n",
    "np_camera_info = raw_camera_info[raw_camera_info != None]\n"
   ]
  },
  {
   "cell_type": "code",
   "execution_count": 95,
   "metadata": {},
   "outputs": [
    {
     "name": "stdout",
     "output_type": "stream",
     "text": [
      "Out of 123 photos, 96 have camera information. \n",
      "The summary of camera make information is as follows:\n",
      "Canon: 30\n",
      "DJI: 1\n",
      "FUJIFILM: 9\n",
      "Fujifilm: 1\n",
      "LEICA CAMERA AG: 1\n",
      "NIKON CORPORATION: 21\n",
      "OLYMPUS CORPORATION: 1\n",
      "Panasonic: 5\n",
      "SONY: 27\n"
     ]
    }
   ],
   "source": [
    "unique_cam_info, times= np.unique(np_camera_info, return_counts=True)\n",
    "\n",
    "print(\n",
    "    f'Out of {len(raw_camera_info)} photos, {len(np_camera_info)} have camera information. \\n' + \n",
    "    'The summary of camera make information is as follows:'\n",
    ")\n",
    "\n",
    "for i in range(len(unique_cam_info)):\n",
    "    print(f'{unique_cam_info[i]}: {times[i]}')\n"
   ]
  }
 ],
 "metadata": {
  "kernelspec": {
   "display_name": "Python 3.10.4 ('ds')",
   "language": "python",
   "name": "python3"
  },
  "language_info": {
   "codemirror_mode": {
    "name": "ipython",
    "version": 3
   },
   "file_extension": ".py",
   "mimetype": "text/x-python",
   "name": "python",
   "nbconvert_exporter": "python",
   "pygments_lexer": "ipython3",
   "version": "3.10.4"
  },
  "orig_nbformat": 4,
  "vscode": {
   "interpreter": {
    "hash": "8d330fb0e7e86b15974b0e807d7a4b9768000ba2a92d88a4cc3ee9a6e179ad84"
   }
  }
 },
 "nbformat": 4,
 "nbformat_minor": 2
}
