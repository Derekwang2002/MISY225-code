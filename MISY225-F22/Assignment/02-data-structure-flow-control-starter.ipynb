{
 "cells": [
  {
   "cell_type": "markdown",
   "metadata": {},
   "source": [
    "# Assignment 2\n",
    "\n",
    "You need to complete the following programs."
   ]
  },
  {
   "cell_type": "markdown",
   "metadata": {},
   "source": [
    "## Questions 1\n",
    "\n",
    "Use a while loop to iterate over a list of integers from 1 to 30：\n",
    "\n",
    "- only print odd numbers\n",
    "- skip all numbers that are the multiples of 7\n",
    "- stop the loop if encounters number 23\n",
    "\n",
    "The sample output is shown below:\n",
    "\n",
    "<img width=\"370\" src=\"https://user-images.githubusercontent.com/595772/190901589-8321d0f0-a97d-4f30-96a5-a1e701793827.png\">\n"
   ]
  },
  {
   "cell_type": "code",
   "execution_count": 21,
   "metadata": {},
   "outputs": [
    {
     "name": "stdout",
     "output_type": "stream",
     "text": [
      "the current number is 3, which is an odd number \n",
      "the current number is 5, which is an odd number \n",
      "the current number is 9, which is an odd number \n",
      "the current number is 11, which is an odd number \n",
      "the current number is 13, which is an odd number \n",
      "the current number is 15, which is an odd number \n",
      "the current number is 17, which is an odd number \n",
      "the current number is 19, which is an odd number \n"
     ]
    }
   ],
   "source": [
    "# question 1\n",
    "i = 1\n",
    "num = list(range(1,31))\n",
    "\n",
    "while i in num:\n",
    "\n",
    "    i += 1\n",
    "    \n",
    "    if i == 23:\n",
    "        break\n",
    "    elif i % 2 != 0 and i % 7 != 0:\n",
    "        print(f'the current number is {i}, which is an odd number ')\n",
    "\n"
   ]
  },
  {
   "cell_type": "markdown",
   "metadata": {},
   "source": [
    "## Question 2\n",
    "\n",
    "Create a password verification program:\n",
    "\n",
    "- ask the user to enter the password\n",
    "- if the user enter anything other than the password 'Open Sesame', print wrong password prompt 'Wrong Password, Try Again!'\n",
    "- if the user enter wrong password 3 or more times, exit the program and print 'You are blocked'\n",
    "- if the password is correct, print 'Door Opening...'"
   ]
  },
  {
   "cell_type": "code",
   "execution_count": 1,
   "metadata": {},
   "outputs": [
    {
     "name": "stdout",
     "output_type": "stream",
     "text": [
      "Door Opening...\n"
     ]
    }
   ],
   "source": [
    "# question 2\n",
    "block = False  # use this boolean variable to flag whether a user should be blocked or not\n",
    "i = 0\n",
    "\n",
    "while True:\n",
    "    \n",
    "    if not block: \n",
    "        user_password = input('please enter your password :)')\n",
    "\n",
    "        if user_password == 'Open Sesame':\n",
    "            print('Door Opening...')\n",
    "            break\n",
    "        else:\n",
    "            print('Wrong Password, Try Again!')\n",
    "    else:\n",
    "        print('You are blocked')\n",
    "        break\n",
    "    \n",
    "    i += 1\n",
    "    \n",
    "    if i >= 3:\n",
    "        block =  True\n",
    "\n"
   ]
  },
  {
   "cell_type": "markdown",
   "metadata": {},
   "source": [
    "## Question 3\n",
    " \n",
    "In this task, you will create a simple lottery program. The rules are as follows:\n",
    "\n",
    "- There are a number of lucy numbers in the draw\n",
    "- Each customer has bought a number of lottery tickets with different numbers and multiples\n",
    "- If the ticket number matches any lucy numbers, the customer wins $10 * multiple prize\n",
    "- The names of the winners and the total payout will be announced\n",
    "\n",
    "The sample output is:\n",
    "\n",
    "<img width=\"306\" src=\"https://user-images.githubusercontent.com/595772/190905070-d90911db-3419-46e9-b3b7-1105d9417e6e.png\">"
   ]
  },
  {
   "cell_type": "code",
   "execution_count": 10,
   "metadata": {},
   "outputs": [
    {
     "name": "stdout",
     "output_type": "stream",
     "text": [
      "The winners are: ['Tom', 'John', 'Emma'] \n",
      "The total payout is $110 \n"
     ]
    }
   ],
   "source": [
    "draw = [34, 56, 24, 78, 42]\n",
    "customers = [\n",
    "    {\n",
    "        'name':'Tom', \n",
    "        'tickets': [\n",
    "            {'number': 23, 'multiple': 1},\n",
    "            {'number': 42, 'multiple': 3},\n",
    "        ],\n",
    "    },\n",
    "    {\n",
    "        'name':'Lucy', \n",
    "        'tickets': [\n",
    "            {'number': 23, 'multiple': 2},\n",
    "            {'number': 55, 'multiple': 1},\n",
    "        ],\n",
    "    },\n",
    "    {\n",
    "        'name':'John', \n",
    "        'tickets': [\n",
    "            {'number': 34, 'multiple': 5},\n",
    "            {'number': 11, 'multiple': 3},\n",
    "        ],\n",
    "    },\n",
    "    {\n",
    "        'name':'Emma', \n",
    "        'tickets': [\n",
    "            {'number': 56, 'multiple': 1},\n",
    "            {'number': 78, 'multiple': 2},\n",
    "        ],\n",
    "    },\n",
    "]\n",
    "\n",
    "winners = []\n",
    "total = 0\n",
    "flag = False\n",
    "\n",
    "for i in customers:\n",
    "\n",
    "    for j in range(2):\n",
    "        if i['tickets'][j]['number'] in draw:\n",
    "            total += 10 * i['tickets'][j]['multiple']\n",
    "            flag = True\n",
    "    \n",
    "    if flag:\n",
    "        winners.append(i['name'])\n",
    "        flag = False\n",
    "\n",
    "print(f'The winners are: {winners} ')\n",
    "print(f'The total payout is ${total} ')\n",
    "\n"
   ]
  },
  {
   "cell_type": "code",
   "execution_count": null,
   "metadata": {},
   "outputs": [],
   "source": []
  }
 ],
 "metadata": {
  "kernelspec": {
   "display_name": "Python 3.10.4 ('ds')",
   "language": "python",
   "name": "python3"
  },
  "language_info": {
   "codemirror_mode": {
    "name": "ipython",
    "version": 3
   },
   "file_extension": ".py",
   "mimetype": "text/x-python",
   "name": "python",
   "nbconvert_exporter": "python",
   "pygments_lexer": "ipython3",
   "version": "3.10.4"
  },
  "orig_nbformat": 4,
  "vscode": {
   "interpreter": {
    "hash": "8d330fb0e7e86b15974b0e807d7a4b9768000ba2a92d88a4cc3ee9a6e179ad84"
   }
  }
 },
 "nbformat": 4,
 "nbformat_minor": 2
}
