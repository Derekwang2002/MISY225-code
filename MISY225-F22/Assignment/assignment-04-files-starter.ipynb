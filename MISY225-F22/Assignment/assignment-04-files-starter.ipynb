{
 "cells": [
  {
   "cell_type": "markdown",
   "metadata": {},
   "source": [
    "## File Parsing\n",
    "\n",
    "In this assignment, you are required to parse a text file (unstructured data) into a json file (structured data). This is an example of a common data processing task often needed for data science projects. \n",
    "\n",
    "This project is designed to be like a real project without much instructions.\n",
    "\n",
    "The input file is `songs.txt`, which you need to analyze (this is the key - you need to understand how the data is structured) and generate a json file as shown in `songs.json`\n",
    "\n",
    "The knowledge you need may include but not limited to:\n",
    "\n",
    "- read and write files\n",
    "- regular expression\n",
    "- string manipulation\n",
    "- list and dict manipulation\n",
    "- various control structure\n",
    "\n",
    "**NOTE**: \n",
    "\n",
    "1. There is no standard solution - as long as you get the required output file.\n",
    "2. You cannot hardcode anything - for example, you cannot use a specific number in the list or a line number in the file to access data. Points will be taken off if any hardcoding is found in your solution."
   ]
  },
  {
   "cell_type": "code",
   "execution_count": 128,
   "metadata": {},
   "outputs": [],
   "source": [
    "# read the file\n",
    "song = open('songs.txt')\n",
    "song_lines = song.readlines()\n",
    "song.close()"
   ]
  },
  {
   "cell_type": "code",
   "execution_count": 129,
   "metadata": {},
   "outputs": [],
   "source": [
    "# Find the structure of each song\n",
    "import re\n",
    "\n",
    "c = 0\n",
    "song_heads = [] \n",
    "song_author = []\n",
    "song_lyrics = []\n",
    "single_lyrics = ''\n",
    "\n",
    "for i in song_lines:\n",
    "\n",
    "    #igonre nextline character\n",
    "    if re.search(r'\\n',i):\n",
    "        l = i[:-1]\n",
    "    else:\n",
    "        l = i\n",
    "\n",
    "    #a line counter of each songs, which counld indentify the seprate line\n",
    "    if re.search(r'[!@#$%^&*\\d]', l):\n",
    "        c = 0\n",
    "    else:\n",
    "        c += 1\n",
    "\n",
    "    #put the relative information into a list\n",
    "    if c == 1:\n",
    "        song_heads.append(l.strip())\n",
    "    elif c == 2:\n",
    "        by_loca = l.find('by ')\n",
    "        song_author.append(l[by_loca + len('by '):].strip())\n",
    "    elif c >= 3:\n",
    "        if re.match(r'.',l):\n",
    "            single_lyrics += l.strip() + ', '\n",
    "        else:\n",
    "            single_lyrics += ''\n",
    "    else:\n",
    "        song_lyrics.append(single_lyrics)\n",
    "        single_lyrics = ''\n",
    "\n",
    "song_lyrics.append(single_lyrics)\n",
    "\n"
   ]
  },
  {
   "cell_type": "code",
   "execution_count": 130,
   "metadata": {},
   "outputs": [],
   "source": [
    "# deleting the empty one, and unwanted comma at the end of each lyrics\n",
    "del_index = []\n",
    "\n",
    "for i in range(len(song_lyrics)):\n",
    "    \n",
    "    if song_lyrics[i] == '':\n",
    "        del_index.append(i)\n",
    "    else:\n",
    "        song_lyrics[i] = song_lyrics[i][:-len(', ')]\n",
    "\n",
    "for i in del_index:\n",
    "    del song_lyrics[i]\n"
   ]
  },
  {
   "cell_type": "code",
   "execution_count": 131,
   "metadata": {},
   "outputs": [
    {
     "name": "stdout",
     "output_type": "stream",
     "text": [
      "['Under Pressure', 'You Are So Beautiful', 'About A Girl']\n",
      "['Queen', 'Joe Cocker', 'Nirvana']\n"
     ]
    },
    {
     "data": {
      "text/plain": [
       "['Pressure, pushing down on me, Pressing down on you, no man ask for',\n",
       " \"You are so beautiful, To me, Can't you see, You're everything I hoped for, You're everything I need, You are so beautiful, To me\",\n",
       " \"I need an easy friend, I do, with an ear to lend, I do think you fit this shoe, I do, but you have a clue, I'll take advantage while, You hang me out to dry, But I can't see you every night, Free (I do), I'm standing in your line, I do hope you have the time, I do pick a number too, I do keep a date with you, I'll take advantage while, You hang me out to dry, But I can't see you every night, Free, I need an easy friend, I do, with an ear to lend, I do think you fit this shoe, I do, but you have a clue, I'll take advantage while, You hang me out to dry, But I can't see you every night, No, I can't see you every night, Free, I do, I do, I do, I do\"]"
      ]
     },
     "execution_count": 131,
     "metadata": {},
     "output_type": "execute_result"
    }
   ],
   "source": [
    "# check cell\n",
    "print(song_heads)\n",
    "print(song_author)\n",
    "song_lyrics\n"
   ]
  },
  {
   "cell_type": "code",
   "execution_count": 132,
   "metadata": {},
   "outputs": [],
   "source": [
    "#define a function\n",
    "def write_song_info(head, author, lyrics):\n",
    "    song_entity = {\"name\":head, \"artist\":author, \"lyrics\":lyrics}\n",
    "    return song_entity\n",
    "\n",
    "# write the answer in a list\n",
    "answer_list = []\n",
    "\n",
    "for i in range(len(song_heads)):\n",
    "    item = write_song_info(song_heads[i], song_author[i], song_lyrics[i])\n",
    "    answer_list.append(item)\n",
    "\n"
   ]
  },
  {
   "cell_type": "code",
   "execution_count": 133,
   "metadata": {},
   "outputs": [],
   "source": [
    "# dump it into a json file, the last step\n",
    "import json\n",
    "\n",
    "answer_file = open('answer_songs.json', 'w')\n",
    "json.dump(answer_list, answer_file)\n",
    "answer_file.close()"
   ]
  },
  {
   "cell_type": "code",
   "execution_count": null,
   "metadata": {},
   "outputs": [],
   "source": []
  }
 ],
 "metadata": {
  "kernelspec": {
   "display_name": "Python 3.10.4 ('ds')",
   "language": "python",
   "name": "python3"
  },
  "language_info": {
   "codemirror_mode": {
    "name": "ipython",
    "version": 3
   },
   "file_extension": ".py",
   "mimetype": "text/x-python",
   "name": "python",
   "nbconvert_exporter": "python",
   "pygments_lexer": "ipython3",
   "version": "3.10.4"
  },
  "orig_nbformat": 4,
  "vscode": {
   "interpreter": {
    "hash": "8d330fb0e7e86b15974b0e807d7a4b9768000ba2a92d88a4cc3ee9a6e179ad84"
   }
  }
 },
 "nbformat": 4,
 "nbformat_minor": 2
}
