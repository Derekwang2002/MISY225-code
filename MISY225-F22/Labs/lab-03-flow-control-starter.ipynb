{
 "cells": [
  {
   "cell_type": "markdown",
   "metadata": {},
   "source": [
    "## Question 1\n",
    "\n",
    "Use input box to get the numerical grade from the user and print out the letter grade based on the following rules using if statements:\n",
    "\n",
    "- A if grade is >= 90\n",
    "- B if grade is between 80 and 90, [80, 90) 80 included and 90 excluded\n",
    "- C if grade is between 70 and 80, [70, 80) 70 included and 90 excluded\n",
    "- D if grade is lower than 70\n",
    "\n",
    "a sample output is `your grade is 88.5 and letter grade is B`\n"
   ]
  },
  {
   "cell_type": "code",
   "execution_count": 1,
   "metadata": {},
   "outputs": [
    {
     "name": "stdout",
     "output_type": "stream",
     "text": [
      "Your numerical grade is 88.5, letter grade is B\n"
     ]
    }
   ],
   "source": [
    "# simple letter grade calculator\n",
    "\n",
    "numerical_grade = float(input('please input your numerical grade'))\n",
    "\n",
    "if numerical_grade >= 90:\n",
    "    letter_grade = 'A'\n",
    "elif numerical_grade >= 80:\n",
    "    letter_grade = 'B'\n",
    "elif numerical_grade >= 70:\n",
    "    letter_grade = 'C'\n",
    "else:\n",
    "    letter_grade = 'D'\n",
    "\n",
    "print(f'Your numerical grade is {numerical_grade}, letter grade is {letter_grade}')\n",
    " "
   ]
  },
  {
   "cell_type": "markdown",
   "metadata": {},
   "source": [
    "## Question 2\n",
    "\n",
    "Use a for loop to iterate over a list of integers from 7 to 28 and only print out the multiples of 7 and 11 and the total number of those multiples.\n",
    "\n",
    "The sample output is shown below:\n",
    "\n",
    "<img width=\"383\" src=\"https://user-images.githubusercontent.com/595772/190893808-9866127c-7166-42fe-9619-2108ef9fd2a5.png\">"
   ]
  },
  {
   "cell_type": "code",
   "execution_count": 15,
   "metadata": {},
   "outputs": [
    {
     "name": "stdout",
     "output_type": "stream",
     "text": [
      "the current number is 7, which is a multiple of 7\n",
      "the current number is 11, which is a multiple of 11\n",
      "the current number is 14, which is a multiple of 7\n",
      "the current number is 21, which is a multiple of 7\n",
      "the current number is 22, which is a multiple of 11\n",
      "the current number is 28, which is a multiple of 7\n",
      "there are 4 multiples of 7 and 2 multiples of 11\n"
     ]
    }
   ],
   "source": [
    "# multiples of 7 and 11\n",
    "total_7_multi = 0\n",
    "total_11_multi = 0\n",
    "\n",
    "for i in range(7,29):\n",
    "    if i % 7 == 0:\n",
    "        print(f'the current number is {i}, which is a multiple of 7')\n",
    "        total_7_multi += 1\n",
    "    elif i % 11 == 0:\n",
    "        print(f'the current number is {i}, which is a multiple of 11')\n",
    "        total_11_multi += 1\n",
    "\n",
    "print(f'there are {total_7_multi} multiples of 7 and {total_11_multi} multiples of 11')\n",
    " "
   ]
  },
  {
   "cell_type": "markdown",
   "metadata": {},
   "source": [
    "# Question 3\n",
    "\n",
    "Given the provided order data, understand the data structure and use a for loop to calculate the order total (formatted as float number with one decimal).\n",
    "\n",
    "Sample output: `the total for the order is 16.2`"
   ]
  },
  {
   "cell_type": "code",
   "execution_count": 18,
   "metadata": {},
   "outputs": [
    {
     "name": "stdout",
     "output_type": "stream",
     "text": [
      "the total for the order is 16.2 \n"
     ]
    }
   ],
   "source": [
    "order_list = [{'name': 'apple', 'price': 1, 'quantity': 3}, {'price': 2.5, 'name': 'kiwi', 'quantity': 3.5}, {'quantity': 2.45, 'price': 1.8, 'name': 'peach'}]\n",
    "\n",
    "sub_total = 0\n",
    "total = 0\n",
    "\n",
    "for i in order_list:\n",
    "    sub_total = i['price'] * i['quantity']\n",
    "    total += sub_total\n",
    "\n",
    "print(f'the total for the order is {total:.1f} ') \n"
   ]
  },
  {
   "cell_type": "markdown",
   "metadata": {},
   "source": [
    "> done by wang xing'en"
   ]
  }
 ],
 "metadata": {
  "kernelspec": {
   "display_name": "Python 3.10.4 ('ds')",
   "language": "python",
   "name": "python3"
  },
  "language_info": {
   "codemirror_mode": {
    "name": "ipython",
    "version": 3
   },
   "file_extension": ".py",
   "mimetype": "text/x-python",
   "name": "python",
   "nbconvert_exporter": "python",
   "pygments_lexer": "ipython3",
   "version": "3.10.4"
  },
  "orig_nbformat": 4,
  "vscode": {
   "interpreter": {
    "hash": "8d330fb0e7e86b15974b0e807d7a4b9768000ba2a92d88a4cc3ee9a6e179ad84"
   }
  }
 },
 "nbformat": 4,
 "nbformat_minor": 2
}
