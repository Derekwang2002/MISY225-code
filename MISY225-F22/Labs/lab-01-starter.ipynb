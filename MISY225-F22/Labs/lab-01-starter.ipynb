{
 "cells": [
  {
   "cell_type": "markdown",
   "metadata": {},
   "source": [
    "In the following cell, implement a simple game rental program:\n",
    "\n",
    "- two prices: newly released games $1.25 per day, old games $0.75 per day\n",
    "- use multiple input boxes to ask the users how many new and how many old games they want to rent and for how long\n",
    "- based on the input, calculate the total charge\n",
    "- use f-strings and escape character to print the result out as follows (total charge must be formatted as a float number with one decimal):\n",
    "\n",
    "<img width=\"352\" src=\"https://user-images.githubusercontent.com/595772/188787724-bca683b4-751e-4da0-b236-c532980b9f0c.png\">\n",
    "\n",
    " "
   ]
  },
  {
   "cell_type": "code",
   "execution_count": 16,
   "metadata": {},
   "outputs": [
    {
     "name": "stdout",
     "output_type": "stream",
     "text": [
      "The following is the order summary: \n",
      "new game's daily rate is $1.25\n",
      "# of new games: 4 and total rental days: 13\n",
      "old game's daily rate is $0.75\n",
      "# of old games: 3 and total rental days: 22\n",
      "-------------------\n",
      "The total charge is: $114.5\n"
     ]
    }
   ],
   "source": [
    "# initialize price variables\n",
    "price_new_game = 1.25\n",
    "price_old_game = 0.75\n",
    "\n",
    "# ask user for inputs\n",
    "num_new_game, days_new_game = input('Please enter the the number and days of new games you intend to borrow (seprate by space):').split()\n",
    "num_old_game, days_old_game = input('Please enter the the number and days of old games you intend to borrow (seprate by space):').split()\n",
    "\n",
    "num_new_game = int(num_new_game)\n",
    "num_old_game = int(num_old_game)\n",
    "days_new_game = int(days_new_game)\n",
    "days_old_game = int(days_old_game)\n",
    "\n",
    "# calculate the total\n",
    "new_charge = (price_new_game * num_new_game * days_new_game)  \n",
    "old_charge = (price_old_game * num_old_game * days_old_game)\n",
    "total_charge = new_charge + old_charge\n",
    "\n",
    "# print the result\n",
    "print('The following is the order summary: ')\n",
    "print(f'new game\\'s daily rate is ${price_new_game}')\n",
    "print(f'# of new games: {num_new_game} and total rental days: {days_new_game}')\n",
    "print(f'old game\\'s daily rate is ${price_old_game}')\n",
    "print(f'# of old games: {num_old_game} and total rental days: {days_old_game}')\n",
    "print('-' * 19)\n",
    "print(f'The total charge is: ${total_charge:.1f}')\n"
   ]
  }
 ],
 "metadata": {
  "kernelspec": {
   "display_name": "Python 3.10.4 ('ds')",
   "language": "python",
   "name": "python3"
  },
  "language_info": {
   "codemirror_mode": {
    "name": "ipython",
    "version": 3
   },
   "file_extension": ".py",
   "mimetype": "text/x-python",
   "name": "python",
   "nbconvert_exporter": "python",
   "pygments_lexer": "ipython3",
   "version": "3.10.4"
  },
  "orig_nbformat": 4,
  "vscode": {
   "interpreter": {
    "hash": "8d330fb0e7e86b15974b0e807d7a4b9768000ba2a92d88a4cc3ee9a6e179ad84"
   }
  }
 },
 "nbformat": 4,
 "nbformat_minor": 2
}
