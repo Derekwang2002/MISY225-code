{
 "cells": [
  {
   "cell_type": "markdown",
   "metadata": {},
   "source": [
    "## Question 1\n",
    "\n",
    "Read the `about-a-girl.txt` file using Python, which has the lyrics of Nirvana's song \"About a girl\".\n",
    "\n",
    "Calculate how many times 'I Do' appears in the lyrics.\n"
   ]
  },
  {
   "cell_type": "code",
   "execution_count": 45,
   "metadata": {},
   "outputs": [
    {
     "name": "stdout",
     "output_type": "stream",
     "text": [
      "14\n"
     ]
    }
   ],
   "source": [
    "nirvana_girl = open('about-a-girl.txt', 'r')\n",
    "num = nirvana_girl.read().count('I do')\n",
    "print(num)\n",
    "nirvana_girl.close()"
   ]
  },
  {
   "cell_type": "markdown",
   "metadata": {},
   "source": [
    "## Question 2\n",
    "\n",
    "Create a text file named `under-pressure.txt` and write the following lines (one line at a time) into the file:\n",
    "\n",
    "```\n",
    "Under Pressure by Queen\n",
    "Pressure\n",
    "pushing down on me\n",
    "Pressing down on you\n",
    "no man ask for\n",
    "```"
   ]
  },
  {
   "cell_type": "code",
   "execution_count": null,
   "metadata": {},
   "outputs": [],
   "source": [
    "under_press = open('under_pressure', 'w')\n",
    "under_press.write('Under Pressure by Queen\\nPressure\\npushing down on me\\nPressing down on you\\nno man ask for')\n",
    "under_press.close()"
   ]
  },
  {
   "cell_type": "markdown",
   "metadata": {},
   "source": [
    "## Question 3\n",
    "\n",
    "The `https://openlibrary.org/authors/[author key]/works.json` returns works by an author according to his/her identifier key.\n",
    "\n",
    "Use the `https://openlibrary.org/search/authors.json` to search for 'j k rowling' and get her identifier key and get all her works and save the result into a json file named `works.json`."
   ]
  },
  {
   "cell_type": "code",
   "execution_count": 51,
   "metadata": {},
   "outputs": [],
   "source": [
    "import json\n",
    "import requests\n",
    "import urllib.parse"
   ]
  },
  {
   "cell_type": "code",
   "execution_count": 53,
   "metadata": {},
   "outputs": [],
   "source": [
    "# get the author data\n",
    "get_author_url = 'https://openlibrary.org/search/authors.json'\n",
    "author = 'j k rowling'\n",
    "\n",
    "encoded_author = urllib.parse.quote(author)\n",
    "search = get_author_url + '?q=' + encoded_author\n",
    "\n",
    "response = requests.request('GET', search)\n",
    "data = response.json()\n"
   ]
  },
  {
   "cell_type": "code",
   "execution_count": 57,
   "metadata": {},
   "outputs": [],
   "source": [
    "# type(response), type(data)\n",
    "# data"
   ]
  },
  {
   "cell_type": "code",
   "execution_count": 55,
   "metadata": {},
   "outputs": [],
   "source": [
    "# find the key and get the works data\n",
    "id = data['docs'][0]['key']\n",
    "works_url = f'https://openlibrary.org/authors/{id}/works.json'\n",
    "\n",
    "reponse = requests.request('GET', works_url)\n",
    "works = reponse.json()"
   ]
  },
  {
   "cell_type": "code",
   "execution_count": 56,
   "metadata": {},
   "outputs": [],
   "source": [
    "# save the works data into json file\n",
    "works_file = open('works.json', 'w')\n",
    "json.dump(works, works_file)\n",
    "works_file.close()"
   ]
  },
  {
   "cell_type": "code",
   "execution_count": null,
   "metadata": {},
   "outputs": [],
   "source": []
  }
 ],
 "metadata": {
  "kernelspec": {
   "display_name": "Python 3.10.4 ('ds')",
   "language": "python",
   "name": "python3"
  },
  "language_info": {
   "codemirror_mode": {
    "name": "ipython",
    "version": 3
   },
   "file_extension": ".py",
   "mimetype": "text/x-python",
   "name": "python",
   "nbconvert_exporter": "python",
   "pygments_lexer": "ipython3",
   "version": "3.10.4"
  },
  "orig_nbformat": 4,
  "vscode": {
   "interpreter": {
    "hash": "8d330fb0e7e86b15974b0e807d7a4b9768000ba2a92d88a4cc3ee9a6e179ad84"
   }
  }
 },
 "nbformat": 4,
 "nbformat_minor": 2
}
