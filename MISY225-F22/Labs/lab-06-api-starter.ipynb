{
 "cells": [
  {
   "cell_type": "markdown",
   "metadata": {},
   "source": [
    "# Question 1\n",
    "\n",
    "Follow the Unsplash API tutorial and do the followings:\n",
    "\n",
    "- get a random image from the server\n",
    "- show the image\n",
    "- show the data about views, likes, and downloads of the image as follows (your numbers may differ)\n",
    "\n",
    "```\n",
    "The image has 183681 views and 59 likes and has been downloaded 1711 times.\n",
    "```"
   ]
  },
  {
   "cell_type": "code",
   "execution_count": 1,
   "metadata": {},
   "outputs": [
    {
     "name": "stdout",
     "output_type": "stream",
     "text": [
      "https://api.unsplash.com/photos/random\n"
     ]
    }
   ],
   "source": [
    "# get a random photo data from the API\n",
    "import requests\n",
    "\n",
    "headers = {\n",
    "    'Authorization': 'Client-ID hQVDYQzmgEnKuhNWHR68bf28H9kaFsXfU2NONA-3li8' \n",
    "}\n",
    "\n",
    "base_url = 'https://api.unsplash.com'\n",
    "random_photo_url = base_url + '/photos/random'\n",
    "print(random_photo_url)  # check the url\n",
    "response = requests.request('GET', random_photo_url, headers=headers)\n",
    "random_photo = response.json()\n"
   ]
  },
  {
   "cell_type": "code",
   "execution_count": 59,
   "metadata": {},
   "outputs": [
    {
     "data": {
      "text/plain": [
       "dict_keys(['id', 'created_at', 'updated_at', 'promoted_at', 'width', 'height', 'color', 'blur_hash', 'description', 'alt_description', 'urls', 'links', 'likes', 'liked_by_user', 'current_user_collections', 'sponsorship', 'topic_submissions', 'user', 'exif', 'location', 'views', 'downloads'])"
      ]
     },
     "execution_count": 59,
     "metadata": {},
     "output_type": "execute_result"
    }
   ],
   "source": [
    "# show the keys of the returned photo data\n",
    "random_photo.keys()"
   ]
  },
  {
   "cell_type": "code",
   "execution_count": 61,
   "metadata": {},
   "outputs": [
    {
     "data": {
      "text/html": [
       "<img src=\"https://images.unsplash.com/photo-1663446783006-5db76a63b27a?crop=entropy&cs=tinysrgb&fit=max&fm=jpg&ixid=MnwzNzA1NTl8MHwxfHJhbmRvbXx8fHx8fHx8fDE2NjU0MTM0Njk&ixlib=rb-1.2.1&q=80&w=1080\"/>"
      ],
      "text/plain": [
       "<IPython.core.display.Image object>"
      ]
     },
     "execution_count": 61,
     "metadata": {},
     "output_type": "execute_result"
    }
   ],
   "source": [
    "# show the image in the notebook\n",
    "image_url_regular = random_photo['urls']['regular']\n",
    "\n",
    "from IPython.display import Image\n",
    "Image(url=image_url_regular)"
   ]
  },
  {
   "cell_type": "code",
   "execution_count": 62,
   "metadata": {},
   "outputs": [
    {
     "name": "stdout",
     "output_type": "stream",
     "text": [
      "The image has 470902 views and 20 likes and has been downloaded 1734 times.\n"
     ]
    }
   ],
   "source": [
    "# print the summary info\n",
    "random_views = int(random_photo['views'])\n",
    "random_likes = int(random_photo['likes'])\n",
    "random_downloads = int(random_photo['downloads'])\n",
    "\n",
    "print(f'The image has {random_views} views and {random_likes} likes and has been downloaded {random_downloads} times.')"
   ]
  },
  {
   "cell_type": "markdown",
   "metadata": {},
   "source": [
    "# Question 2\n",
    "\n",
    "Read the API docs at https://unsplash.com/documentation#list-photos to do the followings:\n",
    "\n",
    "- get the list of photos from Editorial feed (by default, the front page shows the editorial feed https://unsplash.com/ )\n",
    "<img width=\"1434\" src=\"https://user-images.githubusercontent.com/595772/194735953-576745e0-7649-4718-86f8-f9317f4e3fbd.png\">\n",
    "\n",
    "- by default, 10 images are returned, change that parameter to get 15 images instead\n",
    "- based on the returned 15 images:\n",
    "    1. find the image with the most likes and show it in the notebook\n",
    "    2. calculate the max, min, and average downloads of the 15 images (hint: you need the ids of the images and then get the download data from another API: https://unsplash.com/documentation#get-a-photo)\n",
    "\n",
    "    Sample Output:\n",
    "    ```\n",
    "    The download data summary is: max (30357), min(240), average(4982)\n",
    "    ```"
   ]
  },
  {
   "cell_type": "code",
   "execution_count": 20,
   "metadata": {},
   "outputs": [
    {
     "name": "stdout",
     "output_type": "stream",
     "text": [
      "https://api.unsplash.com/photos?per_page=15\n"
     ]
    }
   ],
   "source": [
    "# get the photos info\n",
    "import requests\n",
    "\n",
    "headers = {\n",
    "    'Authorization': 'Client-ID hQVDYQzmgEnKuhNWHR68bf28H9kaFsXfU2NONA-3li8'  \n",
    "}\n",
    "\n",
    "base_url = 'https://api.unsplash.com'\n",
    "list_photo_url = base_url + '/photos' + '?per_page=15'\n",
    "print(list_photo_url)"
   ]
  },
  {
   "cell_type": "code",
   "execution_count": 21,
   "metadata": {},
   "outputs": [],
   "source": [
    "# be careful\n",
    "response = requests.request('GET', list_photo_url, headers=headers)\n",
    "list_photo = response.json() # a list of 15 photos"
   ]
  },
  {
   "cell_type": "code",
   "execution_count": 22,
   "metadata": {},
   "outputs": [
    {
     "data": {
      "text/plain": [
       "dict_keys(['id', 'created_at', 'updated_at', 'promoted_at', 'width', 'height', 'color', 'blur_hash', 'description', 'alt_description', 'urls', 'links', 'likes', 'liked_by_user', 'current_user_collections', 'sponsorship', 'topic_submissions', 'user'])"
      ]
     },
     "execution_count": 22,
     "metadata": {},
     "output_type": "execute_result"
    }
   ],
   "source": [
    "list_photo[0].keys()"
   ]
  },
  {
   "cell_type": "code",
   "execution_count": 26,
   "metadata": {},
   "outputs": [
    {
     "name": "stdout",
     "output_type": "stream",
     "text": [
      "171\n"
     ]
    },
    {
     "data": {
      "text/html": [
       "<img src=\"https://images.unsplash.com/photo-1661956602116-aa6865609028?crop=entropy&cs=tinysrgb&fit=max&fm=jpg&ixid=MnwzNzA1NTl8MXwxfGFsbHwxfHx8fHx8Mnx8MTY2NTM3MTI2MQ&ixlib=rb-1.2.1&q=80&w=1080\"/>"
      ],
      "text/plain": [
       "<IPython.core.display.Image object>"
      ]
     },
     "execution_count": 26,
     "metadata": {},
     "output_type": "execute_result"
    }
   ],
   "source": [
    "# find the image with most likes\n",
    "max_like = 0\n",
    "\n",
    "for i in range(len(list_photo)):\n",
    "    if list_photo[i]['likes'] >= max_like:\n",
    "        max_like = list_photo[i]['likes']\n",
    "        image_url_regular = list_photo[i]['urls']['regular']\n",
    "\n",
    "print(max_like)\n",
    "\n",
    "from IPython.display import Image\n",
    "Image(url=image_url_regular)"
   ]
  },
  {
   "cell_type": "code",
   "execution_count": 30,
   "metadata": {},
   "outputs": [],
   "source": [
    "# get the download data for one image as a test\n",
    "id0 = list_photo[0]['id']\n",
    "download_photo_url = base_url + '/photos/' + id0\n",
    "response = requests.request('GET', download_photo_url, headers=headers)\n",
    "photo0 = response.json() \n"
   ]
  },
  {
   "cell_type": "code",
   "execution_count": 34,
   "metadata": {},
   "outputs": [
    {
     "data": {
      "text/plain": [
       "23432"
      ]
     },
     "execution_count": 34,
     "metadata": {},
     "output_type": "execute_result"
    }
   ],
   "source": [
    "photo0['downloads'] # test output"
   ]
  },
  {
   "cell_type": "code",
   "execution_count": 38,
   "metadata": {},
   "outputs": [],
   "source": [
    "# get all photo info and save into a list\n",
    "photo_info = []\n",
    "\n",
    "for i in range(len(list_photo)):\n",
    "    get_download_url = base_url + '/photos/' + list_photo[i]['id']\n",
    "\n",
    "    response = requests.request('GET', get_download_url, headers=headers)\n",
    "    photo_ith = response.json() # full data of ith photo in the former \"list_photo\"\n",
    "\n",
    "    photo_info.append(photo_ith)\n"
   ]
  },
  {
   "cell_type": "code",
   "execution_count": 41,
   "metadata": {},
   "outputs": [
    {
     "data": {
      "text/plain": [
       "15"
      ]
     },
     "execution_count": 41,
     "metadata": {},
     "output_type": "execute_result"
    }
   ],
   "source": [
    "len(photo_info) # check cell"
   ]
  },
  {
   "cell_type": "code",
   "execution_count": 44,
   "metadata": {},
   "outputs": [],
   "source": [
    "# loop over the list to get the download summary\n",
    "photo_downloads = []\n",
    "\n",
    "for i in range(len(photo_info)):\n",
    "    downloads_num = int(photo_info[i]['downloads'])\n",
    "    photo_downloads.append(downloads_num)\n"
   ]
  },
  {
   "cell_type": "code",
   "execution_count": 45,
   "metadata": {},
   "outputs": [
    {
     "data": {
      "text/plain": [
       "[23432,\n",
       " 2992,\n",
       " 1877,\n",
       " 1712,\n",
       " 2601,\n",
       " 5326,\n",
       " 2094,\n",
       " 1525,\n",
       " 2074,\n",
       " 1759,\n",
       " 33043,\n",
       " 1533,\n",
       " 2152,\n",
       " 1919,\n",
       " 1765]"
      ]
     },
     "execution_count": 45,
     "metadata": {},
     "output_type": "execute_result"
    }
   ],
   "source": [
    "photo_downloads # a list contains downloads data correspond to the sequence number."
   ]
  },
  {
   "cell_type": "code",
   "execution_count": 63,
   "metadata": {},
   "outputs": [
    {
     "name": "stdout",
     "output_type": "stream",
     "text": [
      "The download data summary is: max(33043), min(1525), average(5720)\n"
     ]
    }
   ],
   "source": [
    "# calculate and print out the download summary\n",
    "max_downloads = max(photo_downloads)\n",
    "min_downloads = min(photo_downloads)\n",
    "ave_downloads = int( sum(photo_downloads) / len(photo_downloads) )\n",
    "\n",
    "print(f'The download data summary is: max({max_downloads}), min({min_downloads}), average({ave_downloads})')"
   ]
  },
  {
   "cell_type": "code",
   "execution_count": null,
   "metadata": {},
   "outputs": [],
   "source": []
  }
 ],
 "metadata": {
  "kernelspec": {
   "display_name": "Python 3.10.4 ('ds')",
   "language": "python",
   "name": "python3"
  },
  "language_info": {
   "codemirror_mode": {
    "name": "ipython",
    "version": 3
   },
   "file_extension": ".py",
   "mimetype": "text/x-python",
   "name": "python",
   "nbconvert_exporter": "python",
   "pygments_lexer": "ipython3",
   "version": "3.10.4"
  },
  "orig_nbformat": 4,
  "vscode": {
   "interpreter": {
    "hash": "8d330fb0e7e86b15974b0e807d7a4b9768000ba2a92d88a4cc3ee9a6e179ad84"
   }
  }
 },
 "nbformat": 4,
 "nbformat_minor": 2
}
