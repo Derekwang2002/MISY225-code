{
 "cells": [
  {
   "cell_type": "markdown",
   "metadata": {},
   "source": [
    "# Question 1\n",
    "\n",
    "Follow the Github tutorial and do the following:\n",
    "\n",
    "1. create a repo named `misy225-github-lab` and have a least two commits (you can add files or change files). Change the repo to public and add the repo URL below:\n",
    "\n",
    "Your repo URL: https://github.com/Derekwang2002/misy225-github-lab\n",
    "\n",
    "\n",
    "2. issue a pull request to https://github.com/hjwang/misy225-f22 repo by adding a new text file named `your_full_name.txt` with any content you want. Add your pull request url below:\n",
    "\n",
    "Your Pull Request URL: https://github.com/hjwang/misy225-f22/pull/86"
   ]
  },
  {
   "cell_type": "markdown",
   "metadata": {},
   "source": [
    "# Question 2\n",
    "\n",
    "Read the numbers in the text file used in the lecture and generate the following numpy array:\n",
    "\n",
    "```\n",
    "[[[7. 1. 9. 4.]\n",
    "  [2. 3. 4. 5.]]\n",
    "\n",
    " [[0. 6. 8. 0.]\n",
    "  [1. 3. 3. 9.]]\n",
    "\n",
    " [[6. 9. 5. 8.]\n",
    "  [8. 8. 4. 7.]]]\n",
    "  ```\n",
    "\n",
    "  then generate the following array (hint: 21 = 7 + 1 + 9 + 4):\n",
    "\n",
    "  ```\n",
    "  [[21. 14.]\n",
    " [14. 16.]\n",
    " [28. 27.]]\n",
    "\n",
    " ```\n"
   ]
  },
  {
   "cell_type": "code",
   "execution_count": 1,
   "metadata": {},
   "outputs": [],
   "source": [
    "import numpy as np"
   ]
  },
  {
   "cell_type": "code",
   "execution_count": 13,
   "metadata": {},
   "outputs": [],
   "source": [
    "numbers_file = np.loadtxt('numbers.txt', delimiter=',')\n",
    "\n",
    "a = numbers_file.reshape(3, 2, 4)\n",
    "b = a.sum(axis=2)\n"
   ]
  },
  {
   "cell_type": "code",
   "execution_count": 7,
   "metadata": {},
   "outputs": [
    {
     "name": "stdout",
     "output_type": "stream",
     "text": [
      "[[[7. 1. 9. 4.]\n",
      "  [2. 3. 4. 5.]]\n",
      "\n",
      " [[0. 6. 8. 0.]\n",
      "  [1. 3. 3. 9.]]\n",
      "\n",
      " [[6. 9. 5. 8.]\n",
      "  [8. 8. 4. 7.]]]\n"
     ]
    }
   ],
   "source": [
    "print(a)"
   ]
  },
  {
   "cell_type": "code",
   "execution_count": 14,
   "metadata": {},
   "outputs": [
    {
     "name": "stdout",
     "output_type": "stream",
     "text": [
      "[[21. 14.]\n",
      " [14. 16.]\n",
      " [28. 27.]]\n"
     ]
    }
   ],
   "source": [
    "print(b)"
   ]
  },
  {
   "cell_type": "code",
   "execution_count": null,
   "metadata": {},
   "outputs": [],
   "source": []
  }
 ],
 "metadata": {
  "kernelspec": {
   "display_name": "Python 3.10.4 ('ds')",
   "language": "python",
   "name": "python3"
  },
  "language_info": {
   "codemirror_mode": {
    "name": "ipython",
    "version": 3
   },
   "file_extension": ".py",
   "mimetype": "text/x-python",
   "name": "python",
   "nbconvert_exporter": "python",
   "pygments_lexer": "ipython3",
   "version": "3.10.4"
  },
  "orig_nbformat": 4,
  "vscode": {
   "interpreter": {
    "hash": "8d330fb0e7e86b15974b0e807d7a4b9768000ba2a92d88a4cc3ee9a6e179ad84"
   }
  }
 },
 "nbformat": 4,
 "nbformat_minor": 2
}
