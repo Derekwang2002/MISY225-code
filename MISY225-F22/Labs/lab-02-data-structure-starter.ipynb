{
 "cells": [
  {
   "cell_type": "markdown",
   "metadata": {},
   "source": [
    "## Question 1\n",
    "\n",
    "<img width=\"779\" src=\"https://user-images.githubusercontent.com/595772/189801251-8d6f1532-f452-4963-9482-c47707a7a51a.png\">\n",
    "\n",
    "According to the chart above\n",
    "\n",
    "- create a list of top 5 programming languages in 2022 (use their names as elements), name this list `a`\n",
    "- use list slicing to return the following results:\n",
    "    - use positive index to get `C++`\n",
    "    - use negative index to get `C#`\n",
    "    - get the slice `['C', 'C++']`\n",
    "    - get the slice `['Python', 'C++', 'Java']`"
   ]
  },
  {
   "cell_type": "code",
   "execution_count": 71,
   "metadata": {},
   "outputs": [
    {
     "name": "stdout",
     "output_type": "stream",
     "text": [
      "C++\n",
      "C#\n",
      "['C', 'C++']\n",
      "['Python', 'C++', 'Java']\n"
     ]
    }
   ],
   "source": [
    "# Question 1\n",
    "a = ['Python', 'C', 'C++', 'C#', 'Java']\n",
    "\n",
    "print(a[2])\n",
    "print(a[-2])\n",
    "print(a[1:3])\n",
    "print(a[::2])"
   ]
  },
  {
   "cell_type": "markdown",
   "metadata": {},
   "source": [
    "## Question 2\n",
    "\n",
    "- use append() to add 2 more languages to the list in question 1 to form the top 7 language list\n",
    "- create another list `b` to include the last two top 10 languages and combine with `a ` to form the top 10 list `c`"
   ]
  },
  {
   "cell_type": "code",
   "execution_count": 72,
   "metadata": {},
   "outputs": [],
   "source": [
    "# Question 2\n",
    "a.append('SQL')\n",
    "a.append('JavaScript')"
   ]
  },
  {
   "cell_type": "code",
   "execution_count": 82,
   "metadata": {},
   "outputs": [
    {
     "name": "stdout",
     "output_type": "stream",
     "text": [
      "['Python', 'C', 'C++', 'C#', 'Java', 'SQL', 'JavaScript', 'R', 'HTML', 'TypeScript']\n"
     ]
    },
    {
     "data": {
      "text/plain": [
       "10"
      ]
     },
     "execution_count": 82,
     "metadata": {},
     "output_type": "execute_result"
    }
   ],
   "source": [
    "b = ['R', 'HTML', 'TypeScript']\n",
    "c = a + b\n",
    "\n",
    "print(c)\n",
    "len(c)"
   ]
  },
  {
   "cell_type": "markdown",
   "metadata": {},
   "source": [
    "## Question 3\n",
    "\n",
    "- delete the last 7 languages from the list `c`\n",
    "- change the first three languages by adding the percentage number - use a list of list like `[['Python', 100], ['C', 96.8], ['C++', 88.58]]`\n",
    "- use f-string to print out: `The percentage of C++ is 88.6%`"
   ]
  },
  {
   "cell_type": "code",
   "execution_count": 90,
   "metadata": {},
   "outputs": [
    {
     "name": "stdout",
     "output_type": "stream",
     "text": [
      "['Python', 'C', 'C++']\n"
     ]
    }
   ],
   "source": [
    "# Question 3\n",
    "del c[-7:]\n",
    "print(c)"
   ]
  },
  {
   "cell_type": "code",
   "execution_count": 91,
   "metadata": {},
   "outputs": [],
   "source": [
    "c[0] = [c[0], 100]\n",
    "c[1] = [c[1], 96.8]\n",
    "c[2] = [c[2], 88.58] "
   ]
  },
  {
   "cell_type": "code",
   "execution_count": 93,
   "metadata": {},
   "outputs": [
    {
     "name": "stdout",
     "output_type": "stream",
     "text": [
      "The percentage of C++ is 88.6%\n"
     ]
    }
   ],
   "source": [
    "print(f'The percentage of {c[2][0]} is {c[2][1]/100:.1%}')"
   ]
  },
  {
   "cell_type": "markdown",
   "metadata": {},
   "source": [
    "## Question 4\n",
    "\n",
    "|   Name   | Gender | VIP   |  Cell Phone        | Home Phone | DaysOfMembership | Gift 1 | Gift 2|\n",
    "|  ---   | --- | ---   |     ---        | --- | --- | --- | ---|\n",
    "|   Jack   | Male | No   |  111-222-3333        | 111-444-5555 | 60 | Apple Watch | MacBook Pro|\n",
    "|   Rose   | Female | Yes   |  222-333-4444        | 222-555-6666 | 120 | Airpods | iPad Pro|\n",
    "\n",
    "According to the table above:\n",
    "\n",
    "- create two dictionaries for each user\n",
    "- cell phone and home phone must be recorded as dictionaries for a key named `phones`\n",
    "- gifts must be stored in a list\n",
    "- use proper data types for different columns\n",
    "- create a list from two users to store the whole table and name it `users`\n",
    "- using `users` list to return the following results: 1. the home phone of Jack, 2. Gift 1 of Rose\n"
   ]
  },
  {
   "cell_type": "code",
   "execution_count": 81,
   "metadata": {},
   "outputs": [
    {
     "name": "stdout",
     "output_type": "stream",
     "text": [
      "111-444-5555 Airpods\n"
     ]
    }
   ],
   "source": [
    "# Question 4\n",
    "user_1 = {\n",
    "    'name':'Jack',\n",
    "    'gender':'Male',\n",
    "    'vip':'No' , \n",
    "    'phones':{\n",
    "        'cell':'111-222-3333', \n",
    "        'home':'111-444-5555',\n",
    "    }, \n",
    "    'days_of_mem':60, \n",
    "    'gift':['Apple_Watch', 'Macbook Pro'],\n",
    "}\n",
    "\n",
    "user_2 = {\n",
    "    'name':'Rose',\n",
    "    'gender':'Female', \n",
    "    'vip':'Yes' , \n",
    "    'phones':{\n",
    "        'cell':'222-333-4444', \n",
    "        'home':'222-555-6666',\n",
    "    }, \n",
    "    'days_of_mem':120, \n",
    "    'gift': ['Airpods','iPad Pro'],\n",
    "}\n",
    "\n",
    "users = [user_1, user_2]\n",
    "print(users[0]['phones']['home'], users[1]['gift'][0])\n"
   ]
  }
 ],
 "metadata": {
  "kernelspec": {
   "display_name": "Python 3.10.4 ('ds')",
   "language": "python",
   "name": "python3"
  },
  "language_info": {
   "codemirror_mode": {
    "name": "ipython",
    "version": 3
   },
   "file_extension": ".py",
   "mimetype": "text/x-python",
   "name": "python",
   "nbconvert_exporter": "python",
   "pygments_lexer": "ipython3",
   "version": "3.10.4"
  },
  "orig_nbformat": 4,
  "vscode": {
   "interpreter": {
    "hash": "8d330fb0e7e86b15974b0e807d7a4b9768000ba2a92d88a4cc3ee9a6e179ad84"
   }
  }
 },
 "nbformat": 4,
 "nbformat_minor": 2
}
