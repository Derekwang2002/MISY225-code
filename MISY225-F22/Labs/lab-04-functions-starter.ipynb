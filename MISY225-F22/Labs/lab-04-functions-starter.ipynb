{
 "cells": [
  {
   "cell_type": "markdown",
   "metadata": {},
   "source": [
    "## Question 1\n",
    "\n",
    "Body Mass Index (BMI) is a simple calculation using a person’s height and weight. \n",
    "\n",
    "The formula is \n",
    "\n",
    "$BMI = \\frac{w}{h^2}$ \n",
    "\n",
    "\n",
    "where w is a person’s weight in **kilograms** and h is their height in **meters**.\n",
    "\n",
    "A BMI of 25.0 or more is overweight, while the healthy range is 18.5 to 24.9. \n",
    "\n",
    "Create a function to return BMI and print out underweight, normal, or overweight based on the returned BMI.\n",
    "\n",
    "test using three different ways to provide arguments\n",
    "\n",
    "- positional arguments\n",
    "- keyword arguments\n",
    "- unpacked dict"
   ]
  },
  {
   "cell_type": "code",
   "execution_count": 39,
   "metadata": {},
   "outputs": [],
   "source": [
    "# define the function\n",
    "def get_bmi(weight, height):\n",
    "    bmi = weight / (height ** 2)\n",
    "    return bmi"
   ]
  },
  {
   "cell_type": "code",
   "execution_count": 40,
   "metadata": {},
   "outputs": [],
   "source": [
    "# call function using positional arguments\n",
    "bmi = get_bmi(66, 1.7)"
   ]
  },
  {
   "cell_type": "code",
   "execution_count": 41,
   "metadata": {},
   "outputs": [],
   "source": [
    "# call function using keyword arguments\n",
    "bmi = get_bmi(height=1.7, weight=66)"
   ]
  },
  {
   "cell_type": "code",
   "execution_count": 42,
   "metadata": {},
   "outputs": [],
   "source": [
    "# call function using unpacked dict\n",
    "data = {'weight':66, 'height':1.7}\n",
    "bmi = get_bmi(**data)"
   ]
  },
  {
   "cell_type": "code",
   "execution_count": 43,
   "metadata": {},
   "outputs": [
    {
     "data": {
      "text/plain": [
       "22.837370242214536"
      ]
     },
     "execution_count": 43,
     "metadata": {},
     "output_type": "execute_result"
    }
   ],
   "source": [
    "bmi # you can tes the result with this cell"
   ]
  },
  {
   "cell_type": "code",
   "execution_count": 44,
   "metadata": {},
   "outputs": [
    {
     "name": "stdout",
     "output_type": "stream",
     "text": [
      " Your BMI is 24.2, you are healthy.\n"
     ]
    }
   ],
   "source": [
    "# based on the bmi to print out the result\n",
    "bmi = get_bmi(66, 1.7)\n",
    "judge = ''\n",
    "\n",
    "if bmi >= 25.0:\n",
    "    judge = 'overweight'\n",
    "elif bmi < 18.5:\n",
    "    judge = 'underweight'\n",
    "else:\n",
    "    judge = 'healthy'\n",
    "\n",
    "print(f' Your BMI is {bmi:.1f}, you are {judge}.')\n"
   ]
  },
  {
   "cell_type": "markdown",
   "metadata": {},
   "source": [
    "## Question 2\n",
    "\n",
    "Create two lambda functions to do the following;\n",
    "\n",
    "1. filter the list to only show users starts with 'm'\n",
    "2. capitalize the first letter of all names"
   ]
  },
  {
   "cell_type": "code",
   "execution_count": 45,
   "metadata": {},
   "outputs": [],
   "source": [
    "data = ['Tom', 'John', 'tim', 'Mary', 'max', 'Anna']"
   ]
  },
  {
   "cell_type": "code",
   "execution_count": 46,
   "metadata": {},
   "outputs": [
    {
     "data": {
      "text/plain": [
       "['Mary', 'max']"
      ]
     },
     "execution_count": 46,
     "metadata": {},
     "output_type": "execute_result"
    }
   ],
   "source": [
    "# filter() with lambda function \n",
    "m_start = filter(lambda x: x.lower().find('m') == 0, data)\n",
    "list(m_start)"
   ]
  },
  {
   "cell_type": "code",
   "execution_count": 47,
   "metadata": {},
   "outputs": [
    {
     "data": {
      "text/plain": [
       "['Tom', 'John', 'Tim', 'Mary', 'Max', 'Anna']"
      ]
     },
     "execution_count": 47,
     "metadata": {},
     "output_type": "execute_result"
    }
   ],
   "source": [
    "# map() with lambda function\n",
    "capi_all = map(lambda x: x.capitalize(), data)\n",
    "list(capi_all)"
   ]
  },
  {
   "cell_type": "code",
   "execution_count": null,
   "metadata": {},
   "outputs": [],
   "source": []
  }
 ],
 "metadata": {
  "kernelspec": {
   "display_name": "Python 3.10.4 ('ds')",
   "language": "python",
   "name": "python3"
  },
  "language_info": {
   "codemirror_mode": {
    "name": "ipython",
    "version": 3
   },
   "file_extension": ".py",
   "mimetype": "text/x-python",
   "name": "python",
   "nbconvert_exporter": "python",
   "pygments_lexer": "ipython3",
   "version": "3.10.4"
  },
  "orig_nbformat": 4,
  "vscode": {
   "interpreter": {
    "hash": "8d330fb0e7e86b15974b0e807d7a4b9768000ba2a92d88a4cc3ee9a6e179ad84"
   }
  }
 },
 "nbformat": 4,
 "nbformat_minor": 2
}
